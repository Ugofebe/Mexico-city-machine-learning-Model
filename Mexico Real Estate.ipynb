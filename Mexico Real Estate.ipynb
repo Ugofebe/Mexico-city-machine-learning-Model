{
 "cells": [
  {
   "cell_type": "markdown",
   "id": "9f6cea23",
   "metadata": {},
   "source": [
    "**Preparing Mexico Data**"
   ]
  },
  {
   "cell_type": "code",
   "execution_count": 1,
   "id": "6169be96",
   "metadata": {
    "ExecuteTime": {
     "end_time": "2023-07-21T08:27:24.537678Z",
     "start_time": "2023-07-21T08:27:23.932861Z"
    }
   },
   "outputs": [],
   "source": [
    "#importing the pandas library\n",
    "import pandas as pd"
   ]
  },
  {
   "cell_type": "markdown",
   "id": "09e6ba61",
   "metadata": {},
   "source": [
    "**Task 1.2.1:** Read these three files into three seperate DataFrames named df1, df2, and df3, respectively."
   ]
  },
  {
   "cell_type": "code",
   "execution_count": 2,
   "id": "abd09e97",
   "metadata": {
    "ExecuteTime": {
     "end_time": "2023-07-21T08:28:55.114248Z",
     "start_time": "2023-07-21T08:28:55.078654Z"
    }
   },
   "outputs": [],
   "source": [
    "# added the encoding = 'latin-1', because of 'UnicodeDecodeError'\n",
    "df1 = (pd.read_csv('mexico-real-estate-1.csv', \n",
    "                   encoding = 'latin-1'))\n",
    "df2 = (pd.read_csv('mexico-real-estate-2.csv', \n",
    "                   encoding = 'latin-1'))\n",
    "df3 = (pd.read_csv('mexico-real-estate-3.csv',\n",
    "                   encoding = 'latin-1'))"
   ]
  },
  {
   "cell_type": "markdown",
   "id": "4703977b",
   "metadata": {},
   "source": [
    "**Clean df1**\n",
    "\n",
    "**Task 1.2.2:** Inspect df1 by looking at its shape attribute. Then use the info method to see the data types and number of missing values for each column. Finally, use the head method to look at the first five rows of your dataset.\n",
    "- Inspect a DataFrame using the shape, info and head in pandas."
   ]
  },
  {
   "cell_type": "code",
   "execution_count": 3,
   "id": "9cb9c45e",
   "metadata": {
    "ExecuteTime": {
     "end_time": "2023-07-21T08:28:59.590767Z",
     "start_time": "2023-07-21T08:28:59.572203Z"
    }
   },
   "outputs": [
    {
     "data": {
      "text/plain": [
       "(700, 7)"
      ]
     },
     "execution_count": 3,
     "metadata": {},
     "output_type": "execute_result"
    }
   ],
   "source": [
    "df1.shape"
   ]
  },
  {
   "cell_type": "code",
   "execution_count": 8,
   "id": "dac88f20",
   "metadata": {
    "ExecuteTime": {
     "end_time": "2023-07-21T08:07:37.558984Z",
     "start_time": "2023-07-21T08:07:37.372878Z"
    }
   },
   "outputs": [
    {
     "name": "stdout",
     "output_type": "stream",
     "text": [
      "<class 'pandas.core.frame.DataFrame'>\n",
      "RangeIndex: 700 entries, 0 to 699\n",
      "Data columns (total 7 columns):\n",
      " #   Column         Non-Null Count  Dtype  \n",
      "---  ------         --------------  -----  \n",
      " 0   Unnamed: 0     700 non-null    int64  \n",
      " 1   property_type  700 non-null    object \n",
      " 2   state          700 non-null    object \n",
      " 3   lat            583 non-null    float64\n",
      " 4   lon            583 non-null    float64\n",
      " 5   area_m2        700 non-null    int64  \n",
      " 6   price_usd      700 non-null    object \n",
      "dtypes: float64(2), int64(2), object(3)\n",
      "memory usage: 38.4+ KB\n"
     ]
    }
   ],
   "source": [
    "df1.info()"
   ]
  },
  {
   "cell_type": "code",
   "execution_count": 4,
   "id": "71336045",
   "metadata": {
    "ExecuteTime": {
     "end_time": "2023-07-21T08:29:37.411730Z",
     "start_time": "2023-07-21T08:29:37.378626Z"
    }
   },
   "outputs": [
    {
     "data": {
      "text/html": [
       "<div>\n",
       "<style scoped>\n",
       "    .dataframe tbody tr th:only-of-type {\n",
       "        vertical-align: middle;\n",
       "    }\n",
       "\n",
       "    .dataframe tbody tr th {\n",
       "        vertical-align: top;\n",
       "    }\n",
       "\n",
       "    .dataframe thead th {\n",
       "        text-align: right;\n",
       "    }\n",
       "</style>\n",
       "<table border=\"1\" class=\"dataframe\">\n",
       "  <thead>\n",
       "    <tr style=\"text-align: right;\">\n",
       "      <th></th>\n",
       "      <th>Unnamed: 0</th>\n",
       "      <th>property_type</th>\n",
       "      <th>state</th>\n",
       "      <th>lat</th>\n",
       "      <th>lon</th>\n",
       "      <th>area_m2</th>\n",
       "      <th>price_usd</th>\n",
       "    </tr>\n",
       "  </thead>\n",
       "  <tbody>\n",
       "    <tr>\n",
       "      <th>0</th>\n",
       "      <td>1</td>\n",
       "      <td>house</td>\n",
       "      <td>Estado de México</td>\n",
       "      <td>19.560181</td>\n",
       "      <td>-99.233528</td>\n",
       "      <td>150</td>\n",
       "      <td>$67,965.56</td>\n",
       "    </tr>\n",
       "    <tr>\n",
       "      <th>1</th>\n",
       "      <td>2</td>\n",
       "      <td>house</td>\n",
       "      <td>Nuevo León</td>\n",
       "      <td>25.688436</td>\n",
       "      <td>-100.198807</td>\n",
       "      <td>186</td>\n",
       "      <td>$63,223.78</td>\n",
       "    </tr>\n",
       "    <tr>\n",
       "      <th>2</th>\n",
       "      <td>3</td>\n",
       "      <td>apartment</td>\n",
       "      <td>Guerrero</td>\n",
       "      <td>16.767704</td>\n",
       "      <td>-99.764383</td>\n",
       "      <td>82</td>\n",
       "      <td>$84,298.37</td>\n",
       "    </tr>\n",
       "    <tr>\n",
       "      <th>3</th>\n",
       "      <td>4</td>\n",
       "      <td>apartment</td>\n",
       "      <td>Guerrero</td>\n",
       "      <td>16.829782</td>\n",
       "      <td>-99.911012</td>\n",
       "      <td>150</td>\n",
       "      <td>$94,308.80</td>\n",
       "    </tr>\n",
       "    <tr>\n",
       "      <th>4</th>\n",
       "      <td>5</td>\n",
       "      <td>house</td>\n",
       "      <td>Veracruz de Ignacio de la Llave</td>\n",
       "      <td>NaN</td>\n",
       "      <td>NaN</td>\n",
       "      <td>175</td>\n",
       "      <td>$94,835.67</td>\n",
       "    </tr>\n",
       "  </tbody>\n",
       "</table>\n",
       "</div>"
      ],
      "text/plain": [
       "   Unnamed: 0 property_type                            state        lat  \\\n",
       "0           1         house                 Estado de México  19.560181   \n",
       "1           2         house                       Nuevo León  25.688436   \n",
       "2           3     apartment                         Guerrero  16.767704   \n",
       "3           4     apartment                         Guerrero  16.829782   \n",
       "4           5         house  Veracruz de Ignacio de la Llave        NaN   \n",
       "\n",
       "          lon  area_m2    price_usd  \n",
       "0  -99.233528      150  $67,965.56   \n",
       "1 -100.198807      186  $63,223.78   \n",
       "2  -99.764383       82  $84,298.37   \n",
       "3  -99.911012      150  $94,308.80   \n",
       "4         NaN      175  $94,835.67   "
      ]
     },
     "execution_count": 4,
     "metadata": {},
     "output_type": "execute_result"
    }
   ],
   "source": [
    "df1.head()"
   ]
  },
  {
   "cell_type": "markdown",
   "id": "caf984a8",
   "metadata": {},
   "source": [
    "There are a couple of problems in this DataFrame that need solving.\n",
    "- An unnamed column serving as an index \n",
    "- There are many rows with NaN values in the \"lat\" and \"lon\" columns. \n",
    "- The data type for the \"price_usd\" column is object when it should be float."
   ]
  },
  {
   "cell_type": "code",
   "execution_count": 5,
   "id": "076d20d1",
   "metadata": {
    "ExecuteTime": {
     "end_time": "2023-07-21T08:37:08.417030Z",
     "start_time": "2023-07-21T08:37:08.343066Z"
    }
   },
   "outputs": [
    {
     "name": "stdout",
     "output_type": "stream",
     "text": [
      "<class 'pandas.core.frame.DataFrame'>\n",
      "Int64Index: 583 entries, 0 to 699\n",
      "Data columns (total 6 columns):\n",
      " #   Column         Non-Null Count  Dtype  \n",
      "---  ------         --------------  -----  \n",
      " 0   property_type  583 non-null    object \n",
      " 1   state          583 non-null    object \n",
      " 2   lat            583 non-null    float64\n",
      " 3   lon            583 non-null    float64\n",
      " 4   area_m2        583 non-null    int64  \n",
      " 5   price_usd      583 non-null    object \n",
      "dtypes: float64(2), int64(1), object(3)\n",
      "memory usage: 31.9+ KB\n"
     ]
    }
   ],
   "source": [
    "# Removing the 'Unnamed: 0' column \n",
    "df1.drop(columns = ['Unnamed: 0'], inplace = True)\n",
    "\n",
    "#Removing Nan values\n",
    "df1.dropna(inplace = True)\n",
    "\n",
    "df1.info()"
   ]
  },
  {
   "cell_type": "code",
   "execution_count": null,
   "id": "65d8d767",
   "metadata": {},
   "outputs": [],
   "source": []
  }
 ],
 "metadata": {
  "kernelspec": {
   "display_name": "Python 3 (ipykernel)",
   "language": "python",
   "name": "python3"
  },
  "language_info": {
   "codemirror_mode": {
    "name": "ipython",
    "version": 3
   },
   "file_extension": ".py",
   "mimetype": "text/x-python",
   "name": "python",
   "nbconvert_exporter": "python",
   "pygments_lexer": "ipython3",
   "version": "3.9.12"
  },
  "toc": {
   "base_numbering": 1,
   "nav_menu": {},
   "number_sections": true,
   "sideBar": true,
   "skip_h1_title": false,
   "title_cell": "Table of Contents",
   "title_sidebar": "Contents",
   "toc_cell": false,
   "toc_position": {},
   "toc_section_display": true,
   "toc_window_display": false
  },
  "varInspector": {
   "cols": {
    "lenName": 16,
    "lenType": 16,
    "lenVar": 40
   },
   "kernels_config": {
    "python": {
     "delete_cmd_postfix": "",
     "delete_cmd_prefix": "del ",
     "library": "var_list.py",
     "varRefreshCmd": "print(var_dic_list())"
    },
    "r": {
     "delete_cmd_postfix": ") ",
     "delete_cmd_prefix": "rm(",
     "library": "var_list.r",
     "varRefreshCmd": "cat(var_dic_list()) "
    }
   },
   "types_to_exclude": [
    "module",
    "function",
    "builtin_function_or_method",
    "instance",
    "_Feature"
   ],
   "window_display": false
  }
 },
 "nbformat": 4,
 "nbformat_minor": 5
}
